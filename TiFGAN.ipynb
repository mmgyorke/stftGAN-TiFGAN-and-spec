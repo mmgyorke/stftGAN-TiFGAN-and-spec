{
  "nbformat": 4,
  "nbformat_minor": 0,
  "metadata": {
    "colab": {
      "name": "TiFGAN.ipynb",
      "provenance": [],
      "mount_file_id": "1BSebhOMkkATjheSne06COr-IUle_CcXj",
      "authorship_tag": "ABX9TyPiSmMjFX2RG90Qgl4AiofI",
      "include_colab_link": true
    },
    "kernelspec": {
      "name": "python3",
      "display_name": "Python 3"
    },
    "language_info": {
      "name": "python"
    },
    "accelerator": "GPU"
  },
  "cells": [
    {
      "cell_type": "markdown",
      "metadata": {
        "id": "view-in-github",
        "colab_type": "text"
      },
      "source": [
        "<a href=\"https://colab.research.google.com/github/mmgyorke/stftGAN-TiFGAN-and-spec/blob/master/TiFGAN.ipynb\" target=\"_parent\"><img src=\"https://colab.research.google.com/assets/colab-badge.svg\" alt=\"Open In Colab\"/></a>"
      ]
    },
    {
      "cell_type": "code",
      "execution_count": 2,
      "metadata": {
        "colab": {
          "base_uri": "https://localhost:8080/"
        },
        "id": "4txUq8UMnJbP",
        "outputId": "36ca171f-fec3-4e16-b0a5-e30e9be608a5"
      },
      "outputs": [
        {
          "output_type": "stream",
          "name": "stdout",
          "text": [
            "Cloning into 'stftGAN-TiFGAN-and-spec'...\n",
            "remote: Enumerating objects: 497, done.\u001b[K\n",
            "remote: Counting objects: 100% (6/6), done.\u001b[K\n",
            "remote: Compressing objects: 100% (6/6), done.\u001b[K\n",
            "remote: Total 497 (delta 1), reused 2 (delta 0), pack-reused 491\u001b[K\n",
            "Receiving objects: 100% (497/497), 24.23 MiB | 11.97 MiB/s, done.\n",
            "Resolving deltas: 100% (247/247), done.\n"
          ]
        }
      ],
      "source": [
        "!git clone https://github.com/mmgyorke/stftGAN-TiFGAN-and-spec.git"
      ]
    },
    {
      "cell_type": "code",
      "source": [
        "ls"
      ],
      "metadata": {
        "colab": {
          "base_uri": "https://localhost:8080/"
        },
        "id": "LI1AV2BZ4tTy",
        "outputId": "0c51f670-fcc4-4b43-b999-beb65a568e66"
      },
      "execution_count": 3,
      "outputs": [
        {
          "output_type": "stream",
          "name": "stdout",
          "text": [
            "\u001b[0m\u001b[01;34mdrive\u001b[0m/  \u001b[01;34msample_data\u001b[0m/  \u001b[01;34mstftGAN-TiFGAN-and-spec\u001b[0m/\n"
          ]
        }
      ]
    },
    {
      "cell_type": "code",
      "source": [
        "%cd /content/stftGAN-TiFGAN-and-spec"
      ],
      "metadata": {
        "colab": {
          "base_uri": "https://localhost:8080/"
        },
        "id": "vDr2ZIdQ7kUe",
        "outputId": "3d399f7a-c5ea-438e-a698-93bf3f0177c3"
      },
      "execution_count": 4,
      "outputs": [
        {
          "output_type": "stream",
          "name": "stdout",
          "text": [
            "/content/stftGAN-TiFGAN-and-spec\n"
          ]
        }
      ]
    },
    {
      "cell_type": "code",
      "source": [
        "!cat requirements.txt"
      ],
      "metadata": {
        "colab": {
          "base_uri": "https://localhost:8080/"
        },
        "id": "tklUosJy8RAA",
        "outputId": "921f298d-da95-4360-9d3e-5ccfe4bacaa8"
      },
      "execution_count": 6,
      "outputs": [
        {
          "output_type": "stream",
          "name": "stdout",
          "text": [
            "numpy==1.14.5\n",
            "tensorflow-gpu==1.9.0\n",
            "librosa\n",
            "pillow\n",
            "h5py\n",
            "sklearn\n",
            "scikit-image\n",
            "pyyaml\n",
            "-e .\n",
            "-e tfnntools\n",
            "matplotlib\n",
            "jupyter\n",
            "moviepy\n",
            "requests\n",
            "numba\n",
            "ltfatpy\n",
            "\n"
          ]
        }
      ]
    },
    {
      "cell_type": "code",
      "source": [
        "!pip install -r requirements.txt"
      ],
      "metadata": {
        "colab": {
          "base_uri": "https://localhost:8080/"
        },
        "id": "RwJq_GmL95Xc",
        "outputId": "0ade5b09-0b58-4a44-d87e-4a26a5b2f3c3"
      },
      "execution_count": 7,
      "outputs": [
        {
          "output_type": "stream",
          "name": "stdout",
          "text": [
            "Looking in indexes: https://pypi.org/simple, https://us-python.pkg.dev/colab-wheels/public/simple/\n",
            "Obtaining file:///content/stftGAN-TiFGAN-and-spec (from -r requirements.txt (line 9))\n",
            "Obtaining file:///content/stftGAN-TiFGAN-and-spec/tfnntools (from -r requirements.txt (line 10))\n",
            "Collecting numpy==1.14.5\n",
            "  Downloading numpy-1.14.5-cp37-cp37m-manylinux1_x86_64.whl (12.2 MB)\n",
            "\u001b[K     |████████████████████████████████| 12.2 MB 4.1 MB/s \n",
            "\u001b[31mERROR: Could not find a version that satisfies the requirement tensorflow-gpu==1.9.0 (from versions: 1.13.1, 1.13.2, 1.14.0, 1.15.0, 1.15.2, 1.15.3, 1.15.4, 1.15.5, 2.0.0, 2.0.1, 2.0.2, 2.0.3, 2.0.4, 2.1.0, 2.1.1, 2.1.2, 2.1.3, 2.1.4, 2.2.0, 2.2.1, 2.2.2, 2.2.3, 2.3.0, 2.3.1, 2.3.2, 2.3.3, 2.3.4, 2.4.0, 2.4.1, 2.4.2, 2.4.3, 2.4.4, 2.5.0, 2.5.1, 2.5.2, 2.5.3, 2.6.0, 2.6.1, 2.6.2, 2.6.3, 2.6.4, 2.6.5, 2.7.0rc0, 2.7.0rc1, 2.7.0, 2.7.1, 2.7.2, 2.7.3, 2.8.0rc0, 2.8.0rc1, 2.8.0, 2.8.1, 2.8.2, 2.9.0rc0, 2.9.0rc1, 2.9.0rc2, 2.9.0, 2.9.1)\u001b[0m\n",
            "\u001b[31mERROR: No matching distribution found for tensorflow-gpu==1.9.0\u001b[0m\n",
            "\u001b[?25h"
          ]
        }
      ]
    },
    {
      "cell_type": "code",
      "source": [
        "!python --version"
      ],
      "metadata": {
        "colab": {
          "base_uri": "https://localhost:8080/"
        },
        "id": "wd5LwKVl-Coh",
        "outputId": "a47178a8-fdbd-468a-b5ed-9fb8c32ed32a"
      },
      "execution_count": 8,
      "outputs": [
        {
          "output_type": "stream",
          "name": "stdout",
          "text": [
            "Python 3.7.13\n"
          ]
        }
      ]
    },
    {
      "cell_type": "code",
      "source": [
        "import tensorflow"
      ],
      "metadata": {
        "id": "0Ja7ZzZO_K76"
      },
      "execution_count": 9,
      "outputs": []
    },
    {
      "cell_type": "code",
      "source": [
        "!pip install -r requirements.txt"
      ],
      "metadata": {
        "colab": {
          "base_uri": "https://localhost:8080/"
        },
        "id": "W2vXaSX1_mXI",
        "outputId": "7c450519-3bfe-4269-e761-b0cb9a36c68a"
      },
      "execution_count": 13,
      "outputs": [
        {
          "output_type": "stream",
          "name": "stdout",
          "text": [
            "Looking in indexes: https://pypi.org/simple, https://us-python.pkg.dev/colab-wheels/public/simple/\n",
            "Obtaining file:///content/stftGAN-TiFGAN-and-spec (from -r requirements.txt (line 9))\n",
            "Obtaining file:///content/stftGAN-TiFGAN-and-spec/tfnntools (from -r requirements.txt (line 10))\n",
            "Collecting numpy==1.14.5\n",
            "  Using cached numpy-1.14.5-cp37-cp37m-manylinux1_x86_64.whl (12.2 MB)\n",
            "\u001b[31mERROR: Could not find a version that satisfies the requirement tensorflow-gpu==1.9.0 (from versions: 1.13.1, 1.13.2, 1.14.0, 1.15.0, 1.15.2, 1.15.3, 1.15.4, 1.15.5, 2.0.0, 2.0.1, 2.0.2, 2.0.3, 2.0.4, 2.1.0, 2.1.1, 2.1.2, 2.1.3, 2.1.4, 2.2.0, 2.2.1, 2.2.2, 2.2.3, 2.3.0, 2.3.1, 2.3.2, 2.3.3, 2.3.4, 2.4.0, 2.4.1, 2.4.2, 2.4.3, 2.4.4, 2.5.0, 2.5.1, 2.5.2, 2.5.3, 2.6.0, 2.6.1, 2.6.2, 2.6.3, 2.6.4, 2.6.5, 2.7.0rc0, 2.7.0rc1, 2.7.0, 2.7.1, 2.7.2, 2.7.3, 2.8.0rc0, 2.8.0rc1, 2.8.0, 2.8.1, 2.8.2, 2.9.0rc0, 2.9.0rc1, 2.9.0rc2, 2.9.0, 2.9.1)\u001b[0m\n",
            "\u001b[31mERROR: No matching distribution found for tensorflow-gpu==1.9.0\u001b[0m\n"
          ]
        }
      ]
    },
    {
      "cell_type": "code",
      "source": [
        ""
      ],
      "metadata": {
        "id": "9BmvUm-R_uni"
      },
      "execution_count": null,
      "outputs": []
    }
  ]
}